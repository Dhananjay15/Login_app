{
 "cells": [
  {
   "cell_type": "code",
   "execution_count": 5,
   "id": "c41a9fda-a175-4872-993e-a4324a8449f4",
   "metadata": {},
   "outputs": [
    {
     "name": "stdout",
     "output_type": "stream",
     "text": [
      " * Serving Flask app \"__main__\" (lazy loading)\n",
      " * Environment: production\n",
      "\u001b[31m   WARNING: This is a development server. Do not use it in a production deployment.\u001b[0m\n",
      "\u001b[2m   Use a production WSGI server instead.\u001b[0m\n",
      " * Debug mode: on\n"
     ]
    },
    {
     "name": "stderr",
     "output_type": "stream",
     "text": [
      " * Running on http://127.0.0.1:5000/ (Press CTRL+C to quit)\n",
      "127.0.0.1 - - [28/Sep/2021 20:44:32] \"GET / HTTP/1.1\" 200 -\n",
      "127.0.0.1 - - [28/Sep/2021 20:45:55] \"POST /login HTTP/1.1\" 200 -\n",
      "127.0.0.1 - - [28/Sep/2021 20:46:19] \"GET /register HTTP/1.1\" 200 -\n",
      "127.0.0.1 - - [28/Sep/2021 20:46:55] \"POST /register HTTP/1.1\" 200 -\n",
      "127.0.0.1 - - [28/Sep/2021 20:47:18] \"POST /register HTTP/1.1\" 200 -\n",
      "127.0.0.1 - - [28/Sep/2021 20:47:34] \"GET /login HTTP/1.1\" 200 -\n",
      "127.0.0.1 - - [28/Sep/2021 20:47:42] \"POST /login HTTP/1.1\" 200 -\n"
     ]
    }
   ],
   "source": [
    "from flask import Flask, render_template, request, redirect, url_for, session\n",
    "from flask_mysqldb import MySQL\n",
    "import MySQLdb.cursors\n",
    "import re\n",
    "import mysql.connector as connection\n",
    "\n",
    "app = Flask(__name__)\n",
    "app.secret_key = 'z1razkc'\n",
    "mysql = connection.connect(host=\"localhost\",database = 'my_database',user=\"root\", passwd=\"2002\",use_pure=True)\n",
    "\n",
    "@app.route('/')\n",
    "@app.route('/login', methods =['GET', 'POST'])\n",
    "def login():\n",
    "    msg = ''\n",
    "    if request.method == 'POST' and 'username' in request.form and 'password' in request.form:\n",
    "        username = request.form['username']\n",
    "        password = request.form['password']\n",
    "        cursor = mysql.cursor(MySQLdb.cursors.DictCursor)\n",
    "        cursor.execute('SELECT * FROM accounts WHERE username = %s AND password = %s', (username,password,))\n",
    "        account = cursor.fetchone()\n",
    "        if account:\n",
    "            session['loggedin'] = True\n",
    "            session['id'] = account[0]\n",
    "            session['username'] = account[1]\n",
    "            msg = 'Logged in successfully !'\n",
    "            return render_template('index.html', msg = msg)\n",
    "        else:\n",
    "            msg = 'Incorrect username / password !'\n",
    "    return render_template('login.html', msg = msg)\n",
    "  \n",
    "@app.route('/logout')\n",
    "def logout():\n",
    "    session.pop('loggedin', None)\n",
    "    session.pop('id', None)\n",
    "    session.pop('username', None)\n",
    "    return redirect('login.html')\n",
    "\n",
    "@app.route('/register', methods =['GET', 'POST'])\n",
    "def register():\n",
    "    msg = ''\n",
    "    if request.method == 'POST' and 'username' in request.form and 'password' in request.form and 'email' in request.form :\n",
    "        username = request.form['username']\n",
    "        password = request.form['password']\n",
    "        email = request.form['email']\n",
    "        cursor = mysql.cursor(MySQLdb.cursors.DictCursor)\n",
    "        cursor.execute('SELECT * FROM accounts WHERE username = %s',(username,))\n",
    "        account = cursor.fetchone()\n",
    "        if account:\n",
    "            msg = 'Account already exists !'\n",
    "        elif not re.match(r'[^@]+@[^@]+\\.[^@]+', email):\n",
    "            msg = 'Invalid email address !'\n",
    "        elif not re.match(r'[A-Za-z0-9]+', username):\n",
    "            msg = 'Username must contain only characters and numbers !'\n",
    "        elif not username or not password or not email:\n",
    "            msg = 'Please fill out the form !'\n",
    "        else:\n",
    "            cursor.execute('INSERT INTO accounts VALUES (NULL,%s,%s,%s)', (username,password,email,))\n",
    "            mysql.commit()\n",
    "            msg = 'You have successfully registered !'\n",
    "    elif request.method == 'POST':\n",
    "        msg = 'Please fill out the form !'\n",
    "    return render_template('register.html', msg = msg)\n",
    "\n",
    "if __name__ == \"__main__\":\n",
    "    app.run(debug=True, use_reloader=False)"
   ]
  },
  {
   "cell_type": "code",
   "execution_count": null,
   "id": "d8ffdeb7-29d3-4e98-ad74-ceef72e37387",
   "metadata": {},
   "outputs": [],
   "source": []
  }
 ],
 "metadata": {
  "kernelspec": {
   "display_name": "Python 3",
   "language": "python",
   "name": "python3"
  },
  "language_info": {
   "codemirror_mode": {
    "name": "ipython",
    "version": 3
   },
   "file_extension": ".py",
   "mimetype": "text/x-python",
   "name": "python",
   "nbconvert_exporter": "python",
   "pygments_lexer": "ipython3",
   "version": "3.6.13"
  }
 },
 "nbformat": 4,
 "nbformat_minor": 5
}
